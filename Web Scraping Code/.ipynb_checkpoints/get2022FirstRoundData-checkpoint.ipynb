{
 "cells": [
  {
   "cell_type": "code",
   "execution_count": 41,
   "id": "695123a7",
   "metadata": {},
   "outputs": [],
   "source": [
    "import requests\n",
    "from bs4 import BeautifulSoup\n",
    "from bs4 import Comment\n",
    "from lxml import etree\n",
    "import pandas as pd\n",
    "import time\n",
    "\n",
    "baseUrl = \"https://www.sports-reference.com/\"\n",
    "url = \"https://www.sports-reference.com/cbb/postseason/women/2022-ncaa.html\"\n",
    "\n",
    "headers = {'User-Agent': 'Mozilla/5.0 (Windows NT 10.0; Win64; x64) AppleWebKit/537.36 (KHTML, like Gecko) Chrome/58.0.3029.110 Safari/537.36'}\n",
    "page = requests.get(url, headers=headers)\n",
    "\n",
    "soup = BeautifulSoup(page.content, 'html.parser')\n",
    "dom = etree.HTML(str(soup))\n",
    "\n",
    "# roundOneElements = dom.xpath('//*[@id=\"bracket\"]/div[1]/div/div[1]/a[2]')\n",
    "\n",
    "\n",
    "# rndOneLinks = []\n",
    "# rndOneText = []\n",
    "# for tourney in roundOneElements:\n",
    "#     rndOneLinks.append(baseUrl + tourney.attrib['href'])\n",
    "    \n",
    "# print(rndOneLinks)\n",
    "\n",
    "seedListEls = dom.xpath('//*[@id=\"bracket\"]/div[1]/div/div/span')\n",
    "teamsListEls = dom.xpath('//*[@id=\"bracket\"]/div[1]/div/div/a[1]')\n",
    "\n",
    "seeds = []\n",
    "teams = []\n",
    "\n",
    "if(len(teamsListEls) == len(seedListEls)):\n",
    "    for i in range(len(teamsListEls)):\n",
    "        seeds.append(seedListEls[i].text)\n",
    "        teams.append(teamsListEls[i].text)\n",
    "\n",
    "# for i in range(len(teams)):\n",
    "#     print(seeds[i], teams[i])\n",
    "    \n",
    "d = {\"SEED\": seeds, \"TEAM\": teams}\n",
    "df = pd.DataFrame(data=d)\n",
    "\n",
    "filePath = \"C:/Users/danna/Documents/GitHub/WBBTournamentPredictions/MachineLearning/TestData/2022seedData.csv\"\n",
    "\n",
    "df.to_csv(filePath)\n"
   ]
  }
 ],
 "metadata": {
  "kernelspec": {
   "display_name": "Python 3 (ipykernel)",
   "language": "python",
   "name": "python3"
  },
  "language_info": {
   "codemirror_mode": {
    "name": "ipython",
    "version": 3
   },
   "file_extension": ".py",
   "mimetype": "text/x-python",
   "name": "python",
   "nbconvert_exporter": "python",
   "pygments_lexer": "ipython3",
   "version": "3.9.13"
  }
 },
 "nbformat": 4,
 "nbformat_minor": 5
}
