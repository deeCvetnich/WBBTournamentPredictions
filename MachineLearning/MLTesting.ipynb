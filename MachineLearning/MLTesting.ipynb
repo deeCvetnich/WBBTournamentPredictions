{
 "cells": [
  {
   "cell_type": "code",
   "execution_count": 116,
   "id": "98897452",
   "metadata": {},
   "outputs": [],
   "source": [
    "#import ML frameworks\n",
    "from sklearn.linear_model import LogisticRegression\n",
    "from sklearn.svm import SVC\n",
    "from sklearn.neighbors import KNeighborsClassifier\n",
    "from sklearn.tree import DecisionTreeClassifier\n",
    "from sklearn.ensemble import RandomForestClassifier\n",
    "from sklearn.naive_bayes import GaussianNB\n",
    "from sklearn.linear_model import LogisticRegression\n",
    "\n",
    "from sklearn.linear_model import RidgeClassifier\n",
    "from sklearn.feature_selection import SequentialFeatureSelector\n",
    "from sklearn.model_selection import TimeSeriesSplit\n",
    "\n",
    "rr = RidgeClassifier(alpha=1)\n",
    "\n",
    "lreg = LogisticRegression(solver='liblinear')\n",
    "svm = SVC()\n",
    "knn = KNeighborsClassifier()\n",
    "decTree = DecisionTreeClassifier()\n",
    "rForest = RandomForestClassifier()\n",
    "gaussNB = GaussianNB()\n",
    "logReg = LogisticRegression()\n",
    "\n",
    "split = TimeSeriesSplit(n_splits=3)\n",
    "\n",
    "sfs = SequentialFeatureSelector(rr, \n",
    "                                n_features_to_select=30, \n",
    "                                direction=\"forward\",\n",
    "                                cv=split,\n",
    "                                n_jobs=1\n",
    "                               )"
   ]
  },
  {
   "cell_type": "code",
   "execution_count": 117,
   "id": "6615dd1c",
   "metadata": {},
   "outputs": [],
   "source": [
    "# Import required libraries\n",
    "import pandas as pd\n",
    "import numpy as np \n",
    "import matplotlib.pyplot as plt\n",
    "import sklearn\n",
    "from sklearn.neural_network import MLPClassifier\n",
    "from sklearn.neural_network import MLPRegressor\n",
    "\n",
    "# Import necessary modules\n",
    "from sklearn.model_selection import train_test_split\n",
    "from sklearn.metrics import mean_squared_error\n",
    "from math import sqrt\n",
    "from sklearn.metrics import r2_score"
   ]
  },
  {
   "cell_type": "code",
   "execution_count": 118,
   "id": "6b0cdb3d",
   "metadata": {},
   "outputs": [],
   "source": [
    "#import ML frameworks\n",
    "from sklearn.ensemble import RandomForestClassifier\n",
    "\n",
    "from sklearn.feature_selection import SequentialFeatureSelector\n",
    "from sklearn.model_selection import TimeSeriesSplit\n",
    "\n",
    "rForest = RandomForestClassifier()\n",
    "\n",
    "split = TimeSeriesSplit(n_splits=3)\n",
    "\n",
    "sfs = SequentialFeatureSelector(rr, \n",
    "                                n_features_to_select=30, \n",
    "                                direction=\"forward\",\n",
    "                                cv=split,\n",
    "                                n_jobs=1\n",
    "                               )"
   ]
  },
  {
   "cell_type": "code",
   "execution_count": 119,
   "id": "a0534a92",
   "metadata": {},
   "outputs": [],
   "source": [
    "#adds \"TARGET\" column to data\n",
    "def addTarget(group):\n",
    "    group[\"TARGET\"] = group[\"WIN\"]\n",
    "    return group"
   ]
  },
  {
   "cell_type": "code",
   "execution_count": 120,
   "id": "338bd94e",
   "metadata": {},
   "outputs": [],
   "source": [
    "#runs given prediction model on given data\n",
    "def fullTest(data, model, predictors, start=2, step=1):\n",
    "    #list of dataframes where each df is the prediction for a season\n",
    "    allPreds = []\n",
    "    \n",
    "    szns = sorted(data[\"YEAR\"].unique())\n",
    "    \n",
    "    for sznIndex in range(start, len(szns), step):\n",
    "        szn = szns[sznIndex]\n",
    "        \n",
    "        train = data[data[\"YEAR\"] < szn]\n",
    "        test = data[data[\"YEAR\"] == szn]\n",
    "        \n",
    "        model.fit(data[predictors], data[\"TARGET\"])\n",
    "        \n",
    "        preds = model.predict(test[predictors])\n",
    "        preds = pd.Series(preds, index=test.index)\n",
    "        \n",
    "        combined = pd.concat([test[\"TARGET\"], preds], axis=1)\n",
    "        combined.columns = [\"ACTUAL\", \"PREDICTION\"]\n",
    "        \n",
    "        allPreds.append(combined)\n",
    "    \n",
    "    return pd.concat(allPreds)"
   ]
  },
  {
   "cell_type": "code",
   "execution_count": 121,
   "id": "8c481724",
   "metadata": {},
   "outputs": [],
   "source": [
    "from sklearn.model_selection import cross_val_predict\n",
    "\n",
    "#cross validates model, returns all predictions \n",
    "def crossVal(data, model, predictors, start=2, step=1):\n",
    "    #list of dataframes where each df is the prediction for a season\n",
    "    allPreds = []\n",
    "    \n",
    "    szns = sorted(data[\"YEAR\"].unique())\n",
    "    \n",
    "    for sznIndex in range(start, len(szns), step):\n",
    "        szn = szns[sznIndex]\n",
    "        \n",
    "        model.fit(data[predictors], data[\"TARGET\"])\n",
    "        cvPred = cross_val_predict(model, data[predictors], data[\"TARGET\"], cv=3)\n",
    "        \n",
    "#         preds = model.predict(test[predictors])\n",
    "#         preds = pd.Series(preds, index=test.index)\n",
    "        \n",
    "        combined = pd.concat([test[\"TARGET\"], preds], axis=1)\n",
    "        combined.columns = [\"ACTUAL\", \"PREDICTION\"]\n",
    "        \n",
    "        allPreds.append(combined)\n",
    "    \n",
    "    return pd.concat(allPreds)"
   ]
  },
  {
   "cell_type": "code",
   "execution_count": 122,
   "id": "d0b9915a",
   "metadata": {},
   "outputs": [
    {
     "name": "stderr",
     "output_type": "stream",
     "text": [
      "C:\\Users\\danna\\AppData\\Local\\Temp\\ipykernel_34840\\2799823127.py:9: SettingWithCopyWarning: \n",
      "A value is trying to be set on a copy of a slice from a DataFrame\n",
      "\n",
      "See the caveats in the documentation: https://pandas.pydata.org/pandas-docs/stable/user_guide/indexing.html#returning-a-view-versus-a-copy\n",
      "  df[\"TARGET\"][pd.isnull(df[\"TARGET\"])] = 2\n"
     ]
    }
   ],
   "source": [
    "#import and ready data for ML\n",
    "\n",
    "import pandas as pd\n",
    "filePath = \"C:/Users/danna/Documents/GitHub/WBBTournamentPredictions/MachineLearning/LearningData/learningData8.csv\"\n",
    "df = pd.read_csv(filePath, index_col=0)\n",
    "#add target column\n",
    "df = addTarget(df)\n",
    "#handles null values in target column\n",
    "df[\"TARGET\"][pd.isnull(df[\"TARGET\"])] = 2\n",
    "df[\"TARGET\"] = df[\"TARGET\"].astype(int, errors=\"ignore\")\n",
    "#select needed columns\n",
    "removed_columns = [\"YEAR\", \"WIN\", \"TEAM\", \"TEAM_OPP\", \"GAME_ID\", \"TARGET\", \"PTS\", \"PTS_OPP\"]\n",
    "selected_columns = df.columns[~df.columns.isin(removed_columns)]"
   ]
  },
  {
   "cell_type": "code",
   "execution_count": 123,
   "id": "0e663aca",
   "metadata": {},
   "outputs": [],
   "source": [
    "#preprocess with Min Max Scaler\n",
    "from sklearn.preprocessing import MinMaxScaler\n",
    "import numpy as np\n",
    "\n",
    "scaler = MinMaxScaler()\n",
    "df[selected_columns] = scaler.fit_transform(df[selected_columns])"
   ]
  },
  {
   "cell_type": "code",
   "execution_count": 124,
   "id": "e191f883",
   "metadata": {},
   "outputs": [
    {
     "name": "stderr",
     "output_type": "stream",
     "text": [
      "C:\\Users\\danna\\AppData\\Local\\Temp\\ipykernel_34840\\3383206916.py:2: SettingWithCopyWarning: \n",
      "A value is trying to be set on a copy of a slice from a DataFrame.\n",
      "Try using .loc[row_indexer,col_indexer] = value instead\n",
      "\n",
      "See the caveats in the documentation: https://pandas.pydata.org/pandas-docs/stable/user_guide/indexing.html#returning-a-view-versus-a-copy\n",
      "  df[selected_columns][pd.isnull(df[selected_columns])] = 2\n",
      "C:\\Users\\danna\\AppData\\Local\\Temp\\ipykernel_34840\\3383206916.py:2: SettingWithCopyWarning: \n",
      "A value is trying to be set on a copy of a slice from a DataFrame\n",
      "\n",
      "See the caveats in the documentation: https://pandas.pydata.org/pandas-docs/stable/user_guide/indexing.html#returning-a-view-versus-a-copy\n",
      "  df[selected_columns][pd.isnull(df[selected_columns])] = 2\n"
     ]
    }
   ],
   "source": [
    "#handle unneeded columns\n",
    "df[selected_columns][pd.isnull(df[selected_columns])] = 2\n",
    "df[selected_columns] = df[selected_columns].astype(int, errors=\"ignore\")\n",
    "\n",
    "#fit the data \n",
    "sfs.fit(df[selected_columns], df[\"TARGET\"])\n",
    "\n",
    "#get predictor columns\n",
    "predictors = list(selected_columns[sfs.get_support()])\n",
    "# predictors"
   ]
  },
  {
   "cell_type": "code",
   "execution_count": 115,
   "id": "67fa60fb",
   "metadata": {},
   "outputs": [
    {
     "name": "stdout",
     "output_type": "stream",
     "text": [
      "(666, 30)\n",
      "(286, 30)\n"
     ]
    }
   ],
   "source": [
    "#create the variables to be used in prediction, X is predictor data, y is answers\n",
    "X = df[predictors].values\n",
    "y = df[\"TARGET\"].values\n",
    "\n",
    "X_train, X_test, y_train, y_test = train_test_split(X, y, test_size=0.30, random_state=40)\n",
    "print(X_train.shape); print(X_test.shape)"
   ]
  },
  {
   "cell_type": "code",
   "execution_count": 127,
   "id": "59989050",
   "metadata": {},
   "outputs": [
    {
     "data": {
      "text/plain": [
       "array([0.56918239, 0.58359621, 0.57097792])"
      ]
     },
     "execution_count": 127,
     "metadata": {},
     "output_type": "execute_result"
    }
   ],
   "source": [
    "#create the variables to be used in prediction, X is predictor data, y is answers\n",
    "X = df[predictors].values\n",
    "y = df[\"TARGET\"].values\n",
    "\n",
    "from sklearn.pipeline import make_pipeline\n",
    "from sklearn.preprocessing import StandardScaler\n",
    "from sklearn.svm import SVC\n",
    "\n",
    "clf = make_pipeline(StandardScaler(), SVC(gamma='auto', kernel='poly'))\n",
    "clf.fit(X, y)\n",
    "\n",
    "cvScore = cross_val_score(clf, df[predictors], df[\"TARGET\"], cv=3)\n",
    "cvScore"
   ]
  },
  {
   "cell_type": "code",
   "execution_count": null,
   "id": "25f1ff88",
   "metadata": {},
   "outputs": [],
   "source": []
  },
  {
   "cell_type": "code",
   "execution_count": null,
   "id": "74507e21",
   "metadata": {},
   "outputs": [],
   "source": [
    "predictions = fullTest(df, rForest, predictors)"
   ]
  },
  {
   "cell_type": "code",
   "execution_count": 65,
   "id": "50f74ff1",
   "metadata": {},
   "outputs": [],
   "source": [
    "from sklearn.metrics import accuracy_score\n",
    "acc = accuracy_score(predictions[\"ACTUAL\"], predictions[\"PREDICTION\"])\n",
    "# print(acc)"
   ]
  },
  {
   "cell_type": "code",
   "execution_count": 66,
   "id": "1030c195",
   "metadata": {},
   "outputs": [],
   "source": [
    "from sklearn.model_selection import cross_val_predict, cross_val_score\n",
    "cvPred = cross_val_predict(rForest, df[predictors], df[\"TARGET\"], cv=3)\n",
    "cvScore = cross_val_score(rForest, df[predictors], df[\"TARGET\"], cv=3)"
   ]
  },
  {
   "cell_type": "code",
   "execution_count": 67,
   "id": "2f4e6e3d",
   "metadata": {},
   "outputs": [
    {
     "name": "stdout",
     "output_type": "stream",
     "text": [
      "     ACTUAL  PREDICTION\n",
      "240       0           0\n",
      "241       1           1\n",
      "242       0           0\n",
      "243       1           1\n",
      "244       0           1\n",
      "..      ...         ...\n",
      "947       1           1\n",
      "948       1           1\n",
      "949       0           1\n",
      "950       0           0\n",
      "951       1           1\n",
      "\n",
      "[712 rows x 2 columns]\n",
      "0.672752808988764\n",
      "[0.68867925 0.66876972 0.57728707]\n"
     ]
    }
   ],
   "source": [
    "#print out prediction results\n",
    "print(predictions)\n",
    "print(acc)\n",
    "print(cvScore)"
   ]
  },
  {
   "cell_type": "code",
   "execution_count": 68,
   "id": "f8337573",
   "metadata": {},
   "outputs": [],
   "source": [
    "#define array of ML models to run through\n",
    "models = [rr, lreg, svm, knn, decTree, rForest, gaussNB, logReg]"
   ]
  },
  {
   "cell_type": "code",
   "execution_count": 69,
   "id": "721847e1",
   "metadata": {},
   "outputs": [
    {
     "data": {
      "text/plain": [
       "RandomForestClassifier()"
      ]
     },
     "execution_count": 69,
     "metadata": {},
     "output_type": "execute_result"
    }
   ],
   "source": [
    "model = rForest\n",
    "X = df[predictors]\n",
    "y = df[\"TARGET\"]\n",
    "model.fit(X,y)"
   ]
  },
  {
   "cell_type": "code",
   "execution_count": null,
   "id": "cf258308",
   "metadata": {},
   "outputs": [],
   "source": []
  },
  {
   "cell_type": "code",
   "execution_count": 70,
   "id": "871e3c34",
   "metadata": {},
   "outputs": [
    {
     "name": "stderr",
     "output_type": "stream",
     "text": [
      "C:\\Users\\danna\\AppData\\Local\\Temp\\ipykernel_34840\\508634461.py:19: SettingWithCopyWarning: \n",
      "A value is trying to be set on a copy of a slice from a DataFrame.\n",
      "Try using .loc[row_indexer,col_indexer] = value instead\n",
      "\n",
      "See the caveats in the documentation: https://pandas.pydata.org/pandas-docs/stable/user_guide/indexing.html#returning-a-view-versus-a-copy\n",
      "  dfTest[selected_columns][pd.isnull(dfTest[selected_columns])] = 2\n",
      "C:\\Users\\danna\\AppData\\Local\\Temp\\ipykernel_34840\\508634461.py:19: SettingWithCopyWarning: \n",
      "A value is trying to be set on a copy of a slice from a DataFrame\n",
      "\n",
      "See the caveats in the documentation: https://pandas.pydata.org/pandas-docs/stable/user_guide/indexing.html#returning-a-view-versus-a-copy\n",
      "  dfTest[selected_columns][pd.isnull(dfTest[selected_columns])] = 2\n"
     ]
    }
   ],
   "source": [
    "#import clean test data, ready for ML\n",
    "\n",
    "testPath = \"C:/Users/danna/Documents/GitHub/WBBTournamentPredictions/MachineLearning/TestData/TestData8.csv\"\n",
    "ansPath = \"C:/Users/danna/Documents/GitHub/WBBTournamentPredictions/MachineLearning/TestData/TestData8ANS.csv\"\n",
    "dfTest = pd.read_csv(testPath, index_col=0)\n",
    "dfAns = pd.read_csv(ansPath, index_col=0)\n",
    "# #add target column\n",
    "# df = addTarget(df)\n",
    "#handles null values in target column\n",
    "# df[\"TARGET\"][pd.isnull(df[\"TARGET\"])] = 2\n",
    "# df[\"TARGET\"] = df[\"TARGET\"].astype(int, errors=\"ignore\")\n",
    "#select needed columns\n",
    "removed_columns = [\"YEAR\", \"WIN\", \"TEAM\", \"TEAM_OPP\", \"GAME_ID\", \"TARGET\", \"PTS\", \"PTS_OPP\"]\n",
    "selected_columns = dfTest.columns[~dfTest.columns.isin(removed_columns)]\n",
    "\n",
    "\n",
    "scaler = MinMaxScaler()\n",
    "dfTest[selected_columns] = scaler.fit_transform(dfTest[selected_columns])\n",
    "\n",
    "#handle unneeded columns\n",
    "dfTest[selected_columns][pd.isnull(dfTest[selected_columns])] = 2\n",
    "dfTest[selected_columns] = dfTest[selected_columns].astype(int, errors=\"ignore\")\n",
    "\n",
    "# #fit the data \n",
    "# sfs.fit(df[selected_columns], df[\"TARGET\"])\n",
    "\n",
    "#get predictor columns\n",
    "# predictors = list(selected_columns[sfs.get_support()])\n",
    "# predictors = selected_columns\n",
    "# predictors\n",
    "\n",
    "# predictions = fullTest(df, rForest, predictors)"
   ]
  },
  {
   "cell_type": "code",
   "execution_count": 71,
   "id": "3b5540ab",
   "metadata": {},
   "outputs": [
    {
     "name": "stdout",
     "output_type": "stream",
     "text": [
      "0.5345744680851063\n"
     ]
    }
   ],
   "source": [
    "#define predictor and answer variables (X,y respectively)\n",
    "Xnew = dfTest[predictors]\n",
    "yAns = dfAns\n",
    "\n",
    "yNew = model.predict(Xnew)\n",
    "\n",
    "#check accuracy of model\n",
    "acc = accuracy_score(yAns, yNew)\n",
    "print(acc)"
   ]
  },
  {
   "cell_type": "code",
   "execution_count": 93,
   "id": "91ea3fbc",
   "metadata": {},
   "outputs": [
    {
     "data": {
      "text/html": [
       "<div>\n",
       "<style scoped>\n",
       "    .dataframe tbody tr th:only-of-type {\n",
       "        vertical-align: middle;\n",
       "    }\n",
       "\n",
       "    .dataframe tbody tr th {\n",
       "        vertical-align: top;\n",
       "    }\n",
       "\n",
       "    .dataframe thead th {\n",
       "        text-align: right;\n",
       "    }\n",
       "</style>\n",
       "<table border=\"1\" class=\"dataframe\">\n",
       "  <thead>\n",
       "    <tr style=\"text-align: right;\">\n",
       "      <th></th>\n",
       "      <th>PRED</th>\n",
       "      <th>WIN</th>\n",
       "    </tr>\n",
       "  </thead>\n",
       "  <tbody>\n",
       "    <tr>\n",
       "      <th>0</th>\n",
       "      <td>True</td>\n",
       "      <td>False</td>\n",
       "    </tr>\n",
       "    <tr>\n",
       "      <th>1</th>\n",
       "      <td>True</td>\n",
       "      <td>True</td>\n",
       "    </tr>\n",
       "    <tr>\n",
       "      <th>2</th>\n",
       "      <td>True</td>\n",
       "      <td>False</td>\n",
       "    </tr>\n",
       "    <tr>\n",
       "      <th>3</th>\n",
       "      <td>False</td>\n",
       "      <td>True</td>\n",
       "    </tr>\n",
       "    <tr>\n",
       "      <th>4</th>\n",
       "      <td>True</td>\n",
       "      <td>False</td>\n",
       "    </tr>\n",
       "    <tr>\n",
       "      <th>...</th>\n",
       "      <td>...</td>\n",
       "      <td>...</td>\n",
       "    </tr>\n",
       "    <tr>\n",
       "      <th>371</th>\n",
       "      <td>True</td>\n",
       "      <td>True</td>\n",
       "    </tr>\n",
       "    <tr>\n",
       "      <th>372</th>\n",
       "      <td>False</td>\n",
       "      <td>True</td>\n",
       "    </tr>\n",
       "    <tr>\n",
       "      <th>373</th>\n",
       "      <td>True</td>\n",
       "      <td>False</td>\n",
       "    </tr>\n",
       "    <tr>\n",
       "      <th>374</th>\n",
       "      <td>True</td>\n",
       "      <td>False</td>\n",
       "    </tr>\n",
       "    <tr>\n",
       "      <th>375</th>\n",
       "      <td>True</td>\n",
       "      <td>True</td>\n",
       "    </tr>\n",
       "  </tbody>\n",
       "</table>\n",
       "<p>376 rows × 2 columns</p>\n",
       "</div>"
      ],
      "text/plain": [
       "      PRED    WIN\n",
       "0     True  False\n",
       "1     True   True\n",
       "2     True  False\n",
       "3    False   True\n",
       "4     True  False\n",
       "..     ...    ...\n",
       "371   True   True\n",
       "372  False   True\n",
       "373   True  False\n",
       "374   True  False\n",
       "375   True   True\n",
       "\n",
       "[376 rows x 2 columns]"
      ]
     },
     "metadata": {},
     "output_type": "display_data"
    }
   ],
   "source": [
    "#format predictions in dataframe, change from int to bool values\n",
    "pred = pd.DataFrame(data={'PRED': yNew}).astype(bool)\n",
    "results = [pred, yAns]\n",
    "results = pd.concat(results, axis=1)\n",
    "\n",
    "display(results)"
   ]
  },
  {
   "cell_type": "code",
   "execution_count": 58,
   "id": "e4855410",
   "metadata": {},
   "outputs": [
    {
     "name": "stderr",
     "output_type": "stream",
     "text": [
      "C:\\Users\\danna\\anaconda3\\lib\\site-packages\\sklearn\\neighbors\\_classification.py:228: FutureWarning: Unlike other reduction functions (e.g. `skew`, `kurtosis`), the default behavior of `mode` typically preserves the axis it acts along. In SciPy 1.11.0, this behavior will change: the default value of `keepdims` will become False, the `axis` over which the statistic is taken will be eliminated, and the value None will no longer be accepted. Set `keepdims` to True or False to avoid this warning.\n",
      "  mode, _ = stats.mode(_y[neigh_ind, k], axis=1)\n"
     ]
    },
    {
     "name": "stdout",
     "output_type": "stream",
     "text": [
      "[RidgeClassifier(alpha=1), LogisticRegression(solver='liblinear'), RandomForestClassifier(), LogisticRegression()]\n"
     ]
    }
   ],
   "source": [
    "#run specified models and check their accuracies\n",
    "\n",
    "models = [rr, lreg, svm, knn, decTree, rForest, gaussNB, logReg]\n",
    "accs = []\n",
    "for model in models:\n",
    "    X = df[predictors]\n",
    "    y = df[\"TARGET\"]\n",
    "    model.fit(X,y)\n",
    "    accs.append(accuracy_score(yAns, model.predict(Xnew)))\n",
    "\n",
    "#print out maximum accuracy models\n",
    "maxIndex = accs.index(max(accs))\n",
    "topModels = []\n",
    "for i in range(len(accs)):\n",
    "    if(accs[i] == max(accs)):\n",
    "        topModels.append(models[i])\n",
    "print(topModels)"
   ]
  },
  {
   "cell_type": "code",
   "execution_count": 61,
   "id": "86b68492",
   "metadata": {},
   "outputs": [
    {
     "data": {
      "text/plain": [
       "0.5345744680851063"
      ]
     },
     "execution_count": 61,
     "metadata": {},
     "output_type": "execute_result"
    }
   ],
   "source": []
  }
 ],
 "metadata": {
  "kernelspec": {
   "display_name": "Python 3 (ipykernel)",
   "language": "python",
   "name": "python3"
  },
  "language_info": {
   "codemirror_mode": {
    "name": "ipython",
    "version": 3
   },
   "file_extension": ".py",
   "mimetype": "text/x-python",
   "name": "python",
   "nbconvert_exporter": "python",
   "pygments_lexer": "ipython3",
   "version": "3.9.13"
  }
 },
 "nbformat": 4,
 "nbformat_minor": 5
}
